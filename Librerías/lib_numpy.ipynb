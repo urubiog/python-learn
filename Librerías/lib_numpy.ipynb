{
 "cells": [
  {
   "cell_type": "markdown",
   "metadata": {},
   "source": [
    "# Numpy"
   ]
  },
  {
   "cell_type": "markdown",
   "metadata": {},
   "source": [
    "1. Fundamentos de NumPy\n",
    "    - Arrays NumPy\n",
    "    - Tipos de datos en NumPy\n",
    "    - Creación de arrays\n",
    "    - Acceso a elementos y slicing\n",
    "    - Atributos de los arrays (forma, tamaño, tipo de dato)\n",
    "    - Manipulación de dimensiones\n",
    "2. Operaciones básicas con NumPy\n",
    "    - Operaciones aritméticas\n",
    "    - Operaciones lógicas\n",
    "    - Funciones universales (ufuncs)\n",
    "    - Broadcasting\n",
    "3. Indexado y slicing avanzado\n",
    "    - Indexado con arrays booleanos\n",
    "    - Indexado con arrays enteros\n",
    "    - Indexado con condiciones lógicas\n",
    "4. Manipulación de arrays\n",
    "    - Concatenación de arrays\n",
    "    - División de arrays\n",
    "    - Transposición de arrays\n",
    "    - Cambio de forma (reshaping)\n",
    "    - Aplanamiento de arrays (ravel, flatten)\n",
    "5. Funciones matemáticas y estadísticas\n",
    "    - Funciones matemáticas básicas\n",
    "    - Funciones estadísticas básicas\n",
    "    - Álgebra lineal con NumPy (álgebra de matrices, cálculo de determinantes, resolución de sistemas de ecuaciones)\n",
    "6. Generación de números aleatorios\n",
    "    - Generación de números aleatorios simples\n",
    "    - Distribuciones de probabilidad\n",
    "7. Guardado y carga de datos\n",
    "    - Guardado de arrays en archivos\n",
    "    - Carga de arrays desde archivos\n",
    "8. NumPy y la visualización de datos\n",
    "    - Integración con Matplotlib\n",
    "    - Representación de arrays NumPy\n",
    "9. Optimización de código con NumPy\n",
    "    - Vectorización de operaciones\n",
    "    - Comparación de rendimiento con listas estándar de Python\n",
    "10. Casos de uso y ejemplos prácticos\n",
    "    - Procesamiento de imágenes\n",
    "    - Cálculos científicos y de ingeniería\n",
    "    - Análisis de datos"
   ]
  },
  {
   "cell_type": "code",
   "execution_count": 1,
   "metadata": {},
   "outputs": [],
   "source": [
    "import numpy as np"
   ]
  },
  {
   "cell_type": "markdown",
   "metadata": {},
   "source": [
    "## Fundamentos de Numpy"
   ]
  },
  {
   "cell_type": "markdown",
   "metadata": {},
   "source": [
    "### Arrays Numpy"
   ]
  },
  {
   "cell_type": "code",
   "execution_count": 2,
   "metadata": {},
   "outputs": [
    {
     "name": "stdout",
     "output_type": "stream",
     "text": [
      "Array NumPy: [1 2 3 4 5]\n"
     ]
    }
   ],
   "source": [
    "# Crear un array unidimensional\n",
    "arr1d = np.array([1, 2, 3, 4, 5])\n",
    "\n",
    "type(arr1d) # numpy.ndarray\n",
    "print(\"Array NumPy:\", arr1d)"
   ]
  },
  {
   "cell_type": "markdown",
   "metadata": {},
   "source": [
    "### Tipos de datos en NumPy"
   ]
  },
  {
   "cell_type": "code",
   "execution_count": 3,
   "metadata": {},
   "outputs": [
    {
     "ename": "AttributeError",
     "evalue": "module 'numpy' has no attribute 'float128'",
     "output_type": "error",
     "traceback": [
      "\u001b[1;31m---------------------------------------------------------------------------\u001b[0m",
      "\u001b[1;31mAttributeError\u001b[0m                            Traceback (most recent call last)",
      "Cell \u001b[1;32mIn[3], line 17\u001b[0m\n\u001b[0;32m     15\u001b[0m np\u001b[38;5;241m.\u001b[39mfloat32  \u001b[38;5;66;03m# Flotante de 32 bits\u001b[39;00m\n\u001b[0;32m     16\u001b[0m np\u001b[38;5;241m.\u001b[39mfloat64  \u001b[38;5;66;03m# Flotante de 64 bits (doble precisión)\u001b[39;00m\n\u001b[1;32m---> 17\u001b[0m \u001b[43mnp\u001b[49m\u001b[38;5;241;43m.\u001b[39;49m\u001b[43mfloat128\u001b[49m \u001b[38;5;66;03m# Flotante de 128 bits (precisión extendida)\u001b[39;00m\n\u001b[0;32m     19\u001b[0m \u001b[38;5;66;03m# Otros tipos de datos\u001b[39;00m\n\u001b[0;32m     20\u001b[0m np\u001b[38;5;241m.\u001b[39mbool    \u001b[38;5;66;03m# Tipo booleano (True o False)\u001b[39;00m\n",
      "File \u001b[1;32mc:\\Users\\Uri26\\AppData\\Local\\Programs\\Python\\Python312\\Lib\\site-packages\\numpy\\__init__.py:347\u001b[0m, in \u001b[0;36m__getattr__\u001b[1;34m(attr)\u001b[0m\n\u001b[0;32m    344\u001b[0m     \u001b[38;5;124m\"\u001b[39m\u001b[38;5;124mRemoved in NumPy 1.25.0\u001b[39m\u001b[38;5;124m\"\u001b[39m\n\u001b[0;32m    345\u001b[0m     \u001b[38;5;28;01mraise\u001b[39;00m \u001b[38;5;167;01mRuntimeError\u001b[39;00m(\u001b[38;5;124m\"\u001b[39m\u001b[38;5;124mTester was removed in NumPy 1.25.\u001b[39m\u001b[38;5;124m\"\u001b[39m)\n\u001b[1;32m--> 347\u001b[0m \u001b[38;5;28;01mraise\u001b[39;00m \u001b[38;5;167;01mAttributeError\u001b[39;00m(\u001b[38;5;124m\"\u001b[39m\u001b[38;5;124mmodule \u001b[39m\u001b[38;5;132;01m{!r}\u001b[39;00m\u001b[38;5;124m has no attribute \u001b[39m\u001b[38;5;124m\"\u001b[39m\n\u001b[0;32m    348\u001b[0m                      \u001b[38;5;124m\"\u001b[39m\u001b[38;5;132;01m{!r}\u001b[39;00m\u001b[38;5;124m\"\u001b[39m\u001b[38;5;241m.\u001b[39mformat(\u001b[38;5;18m__name__\u001b[39m, attr))\n",
      "\u001b[1;31mAttributeError\u001b[0m: module 'numpy' has no attribute 'float128'"
     ]
    }
   ],
   "source": [
    "# Tipos de datos enteros\n",
    "np.int8    # Entero de 8 bits con signo\n",
    "np.int16   # Entero de 16 bits con signo\n",
    "np.int32   # Entero de 32 bits con signo\n",
    "np.int64   # Entero de 64 bits con signo\n",
    "\n",
    "# Tipos de datos enteros sin signo\n",
    "np.uint8   # Entero de 8 bits sin signo\n",
    "np.uint16  # Entero de 16 bits sin signo\n",
    "np.uint32  # Entero de 32 bits sin signo\n",
    "np.uint64  # Entero de 64 bits sin signo\n",
    "\n",
    "# Tipos de datos de punto flotante\n",
    "np.float16  # Flotante de 16 bits\n",
    "np.float32  # Flotante de 32 bits\n",
    "np.float64  # Flotante de 64 bits (doble precisión)\n",
    "np.float128 # Flotante de 128 bits (precisión extendida)\n",
    "\n",
    "# Otros tipos de datos\n",
    "np.bool    # Tipo booleano (True o False)\n",
    "np.complex64  # Número complejo de 64 bits (parte real e imaginaria de 32 bits)\n",
    "np.complex128 # Número complejo de 128 bits (parte real e imaginaria de 64 bits)\n",
    "np.complex256 # Número complejo de 256 bits (parte real e imaginaria de 128 bits)\n",
    "\n",
    "# Tipo de dato para texto (cadena de caracteres)\n",
    "np.str_    # Tipo de cadena de longitud fija\n",
    "\n",
    "# Tipo de dato para objetos de Python\n",
    "np.object  # Tipo de objeto de Python\n",
    "\n",
    "# Tipo de dato para valores de bytes\n",
    "np.bytes_  # Tipo de cadena de bytes de longitud fija\n",
    "\n",
    "# Tipo de dato para fechas y horas\n",
    "np.datetime64 # Tipo de fecha y hora\n",
    "np.timedelta64 # Tipo de diferencia entre fechas y horas"
   ]
  },
  {
   "cell_type": "markdown",
   "metadata": {},
   "source": [
    "### Creación de arrays"
   ]
  },
  {
   "cell_type": "code",
   "execution_count": 4,
   "metadata": {},
   "outputs": [],
   "source": [
    "# Crear una array a partir de una lista\n",
    "array_lista = np.array([1, 2, 3, 4, 5])\n",
    "\n",
    "# Crear una array de ceros\n",
    "array_ceros = np.zeros((2, 3))  # Una matriz de 2x3 con todos los elementos cero\n",
    "\n",
    "# Crear una array de unos\n",
    "array_unos = np.ones((3, 2))     # Una matriz de 3x2 con todos los elementos uno\n",
    "\n",
    "# Crear una array con valores constantes\n",
    "valor_constante = 5\n",
    "array_constante = np.full((2, 2), valor_constante)  # Una matriz de 2x2 con todos los elementos iguales a 5\n",
    "\n",
    "# Crear una array con una secuencia de números\n",
    "array_secuencia = np.arange(0, 10, 2)  # Una secuencia del 0 al 9 (exclusivo) con paso de 2\n",
    "\n",
    "# Crear una array de números espaciados de manera uniforme\n",
    "array_espaciada = np.linspace(0, 1, 5)  # Una secuencia de 5 números uniformemente espaciados entre 0 y 1\n",
    "\n",
    "# Crear una array con números aleatorios\n",
    "array_aleatorio = np.random.rand(2, 3)  # Una matriz de 2x3 con valores aleatorios entre 0 y 1\n",
    "\n",
    "# np.where: Retorna elementos de x o y según la condición.\n",
    "array_condicion = np.array([True, False, True, False])\n",
    "array_x = np.array([1, 2, 3, 4])\n",
    "array_y = np.array([5, 6, 7, 8])\n",
    "\n",
    "resultado_where = np.where(array_condicion, array_x, array_y) # [1 6 3 8]\n",
    "\n",
    "# np.diag: Extrae la diagonal o construye una matriz diagonal.\n",
    "matriz = np.array([[1, 2, 3],\n",
    "                   [4, 5, 6],\n",
    "                   [7, 8, 9]])\n",
    "\n",
    "diagonal_principal = np.diag(matriz) # [1 5 9]"
   ]
  },
  {
   "cell_type": "markdown",
   "metadata": {},
   "source": [
    "### Indexación y slicing"
   ]
  },
  {
   "cell_type": "code",
   "execution_count": null,
   "metadata": {},
   "outputs": [],
   "source": [
    "# Crear un array de ejemplo\n",
    "array_ejemplo = np.array([[1, 2, 3],\n",
    "                          [4, 5, 6],\n",
    "                          [7, 8, 9]])\n",
    "\n",
    "# Indexación básica\n",
    "array_ejemplo[0]        # La primera fila del array\n",
    "array_ejemplo[0][1]     # El segundo elemento de la primera fila\n",
    "array_ejemplo[2, 1]     # Otra forma de acceder al segundo elemento de la tercera fila\n",
    "\n",
    "# Slicing básico\n",
    "array_ejemplo[0:2]      # Las dos primeras filas del array\n",
    "array_ejemplo[:, 1]     # La segunda columna del array\n",
    "array_ejemplo[1:, :2]   # Desde la segunda fila hasta el final y las dos primeras columnas\n",
    "\n",
    "# Indexación con arrays booleanos (masking)\n",
    "mask = array_ejemplo > 5 # Crear una máscara booleana basada en la condición\n",
    "array_ejemplo[mask]      # Los elementos del array que cumplen la condición\n",
    "\n",
    "# Indexación con arrays de índices\n",
    "indices = np.array([0, 2]) # Un array de índices\n",
    "array_ejemplo[indices]     # Los elementos del array en los índices dados\n",
    "\n",
    "# Indexación con paso\n",
    "array_ejemplo[::2]      # Cada segundo elemento a lo largo del eje 0 (filas)\n",
    "array_ejemplo[:, ::-1]  # Invertir el orden de las columnas\n",
    "\n",
    "# Indexación con números negativos\n",
    "array_ejemplo[-1]       # La última fila del array\n",
    "array_ejemplo[:-1]      # Todas las filas excepto la última\n",
    "\n",
    "# Indexación y slicing en arrays de más de una dimensión\n",
    "array_3d = np.arange(27).reshape((3, 3, 3))  # Un array 3D de ejemplo\n",
    "array_3d[0, :, 1]                            # La segunda columna de la primera matriz"
   ]
  },
  {
   "cell_type": "markdown",
   "metadata": {},
   "source": [
    "### Atributos de los arrays"
   ]
  },
  {
   "cell_type": "code",
   "execution_count": null,
   "metadata": {},
   "outputs": [],
   "source": [
    "array = np.array([[1,2,3],[4,5,6]])\n",
    "\n",
    "# Acceder a los atributos de las arrays\n",
    "array.shape # Forma de la array\n",
    "array.ndim # Número de dimensiones\n",
    "array.size # Número total de elementos\n",
    "array.dtype # Tipo de datos de la array\n",
    "array.itemsize # Tamaño en bytes de cada elemento\n",
    "array.nbytes # Tamaño total de la array en bytes"
   ]
  },
  {
   "cell_type": "markdown",
   "metadata": {},
   "source": [
    "### Manipulación de dimensiones"
   ]
  },
  {
   "cell_type": "code",
   "execution_count": null,
   "metadata": {},
   "outputs": [],
   "source": [
    "# Crear un array de ejemplo\n",
    "array_ejemplo = np.array([[1, 2, 3],\n",
    "                          [4, 5, 6],\n",
    "                          [7, 8, 9]])\n",
    "\n",
    "# Transposición de un array\n",
    "array_transpuesto = np.transpose(array_ejemplo)  # Transponer el array\n",
    "array_ejemplo.T  # Otra forma de transponer el array\n",
    "\n",
    "# Cambiar la forma (reshape) de un array\n",
    "array_reshape = np.reshape(array_ejemplo, (1, 9))  # Cambiar a una fila de 9 elementos\n",
    "array_reshape2 = array_ejemplo.reshape(1, -1)       # Otra forma de cambiar a una fila\n",
    "\n",
    "# Agregar una nueva dimensión a un array existente\n",
    "array_nueva_dim = np.expand_dims(array_ejemplo, axis=2)  # Agregar una nueva dimensión al final\n",
    "array_nueva_dim2 = np.expand_dims(array_ejemplo, axis=0)  # Agregar una nueva dimensión al principio\n",
    "\n",
    "# Eliminar dimensiones de tamaño 1\n",
    "array_sin_una_dim = np.squeeze(array_nueva_dim)  # Eliminar la dimensión agregada anteriormente\n",
    "\n",
    "# Concatenar arrays\n",
    "array1 = np.array([[1, 2], [3, 4]])\n",
    "array2 = np.array([[5, 6]])\n",
    "array_concatenado = np.concatenate((array1, array2), axis=0)  # Concatenar a lo largo del eje 0 (filas)"
   ]
  },
  {
   "cell_type": "markdown",
   "metadata": {},
   "source": [
    "## Operaciones básicas con NumPy"
   ]
  },
  {
   "cell_type": "markdown",
   "metadata": {},
   "source": [
    "### Operaciones aritméticas"
   ]
  },
  {
   "cell_type": "code",
   "execution_count": null,
   "metadata": {},
   "outputs": [],
   "source": [
    "\n",
    "# Crear dos arrays de ejemplo\n",
    "array1 = np.array([[1, 2], [3, 4]])\n",
    "array2 = np.array([[5, 6], [7, 8]])\n",
    "\n",
    "# Suma de arrays\n",
    "suma_arrays = array1 + array2  # Suma elemento por elemento\n",
    "suma_arrays2 = np.add(array1, array2)  # Otra forma de sumar\n",
    "\n",
    "# Resta de arrays\n",
    "resta_arrays = array1 - array2  # Resta elemento por elemento\n",
    "resta_arrays2 = np.subtract(array1, array2)  # Otra forma de restar\n",
    "\n",
    "# Multiplicación de arrays\n",
    "multiplicacion_arrays = array1 * array2  # Multiplicación elemento por elemento\n",
    "multiplicacion_arrays2 = np.multiply(array1, array2)  # Otra forma de multiplicar\n",
    "\n",
    "# División de arrays\n",
    "division_arrays = array1 / array2  # División elemento por elemento\n",
    "division_arrays2 = np.divide(array1, array2)  # Otra forma de dividir\n",
    "\n",
    "# Operaciones aritméticas con escalares\n",
    "escalar = 2\n",
    "multiplicacion_escalar = escalar * array1  # Multiplicar todos los elementos por el escalar\n",
    "suma_escalar = escalar + array1  # Sumar el escalar a todos los elementos\n",
    "\n",
    "# Operaciones matriciales\n",
    "producto_punto = np.dot(array1, array2)  # Producto punto entre arrays\n",
    "producto_matricial = np.matmul(array1, array2)  # Producto matricial\n",
    "\n",
    "# Otras operaciones aritméticas\n",
    "suma_total = np.sum(array1)  # Suma de todos los elementos del array\n",
    "promedio = np.mean(array1)   # Promedio de todos los elementos del array"
   ]
  },
  {
   "cell_type": "markdown",
   "metadata": {},
   "source": [
    "### Operaciones lógicas"
   ]
  },
  {
   "cell_type": "code",
   "execution_count": null,
   "metadata": {},
   "outputs": [],
   "source": [
    "# Crear dos arrays de ejemplo\n",
    "array1 = np.array([[1, 2], [3, 4]])\n",
    "array2 = np.array([[5, 6], [7, 8]])\n",
    "\n",
    "# Operaciones lógicas elemento por elemento\n",
    "resultado_and = np.logical_and(array1 > 2, array2 < 7)  # Operación AND\n",
    "resultado_or = np.logical_or(array1 > 2, array2 < 7)    # Operación OR\n",
    "resultado_not = np.logical_not(array1 > 2)              # Operación NOT\n",
    "\n",
    "# Comprobar si todos o alguno de los elementos son verdaderos\n",
    "todos_verdaderos = np.all(array1 > 0)     # ¿Todos los elementos son mayores que 0?\n",
    "alguno_verdadero = np.any(array1 == 2)    # ¿Alguno de los elementos es igual a 2?\n",
    "\n",
    "# Comparaciones\n",
    "comparacion_mayor = array1 > array2   # Comparación de elementos mayor que\n",
    "comparacion_igual = array1 == array2  # Comparación de elementos iguales"
   ]
  },
  {
   "cell_type": "markdown",
   "metadata": {},
   "source": [
    "### Funciones universales"
   ]
  },
  {
   "cell_type": "code",
   "execution_count": null,
   "metadata": {},
   "outputs": [],
   "source": [
    "# Crear un array de ejemplo\n",
    "array_ejemplo = np.array([1, 2, 3, 4, 5])\n",
    "\n",
    "# Funciones matemáticas\n",
    "cuadrado = np.square(array_ejemplo)   # Elevar al cuadrado cada elemento\n",
    "raiz_cuadrada = np.sqrt(array_ejemplo) # Raíz cuadrada de cada elemento\n",
    "exponencial = np.exp(array_ejemplo)    # Exponencial de cada elemento\n",
    "logaritmo = np.log(array_ejemplo)      # Logaritmo natural de cada elemento\n",
    "\n",
    "# Funciones trigonométricas\n",
    "seno = np.sin(array_ejemplo)   # Seno de cada elemento (en radianes)\n",
    "coseno = np.cos(array_ejemplo) # Coseno de cada elemento (en radianes)\n",
    "tangente = np.tan(array_ejemplo) # Tangente de cada elemento (en radianes)\n",
    "\n",
    "# Funciones de comparación\n",
    "mayor_que_cinco = np.greater(array_ejemplo, 5)  # Comparar si cada elemento es mayor que 5\n",
    "igual_a_tres = np.equal(array_ejemplo, 3)       # Comparar si cada elemento es igual a 3\n",
    "\n",
    "# Funciones de redondeo\n",
    "redondeo = np.round([0.5, 1.5, 2.5, 3.5, 4.5])  # Redondear cada número al entero más cercano\n",
    "techo = np.ceil([0.1, 1.9, 2.5, 3.6, 4.2])       # Redondear hacia arriba\n",
    "piso = np.floor([0.1, 1.9, 2.5, 3.6, 4.2])       # Redondear hacia abajo"
   ]
  },
  {
   "cell_type": "markdown",
   "metadata": {},
   "source": [
    "### Broadcasting"
   ]
  },
  {
   "cell_type": "code",
   "execution_count": null,
   "metadata": {},
   "outputs": [],
   "source": [
    "# Crear un array de ejemplo\n",
    "array1 = np.array([[1, 2, 3],\n",
    "                   [4, 5, 6]])\n",
    "\n",
    "# Sumar un escalar a cada elemento del array\n",
    "resultado = array1 + 1\n",
    "# El escalar 1 se expande automáticamente para que tenga la misma forma que array1\n",
    "\n",
    "# Multiplicar un vector fila por cada fila del array\n",
    "vector_fila = np.array([10, 20, 30])\n",
    "resultado = array1 + vector_fila\n",
    "# El vector_fila se expande automáticamente para que tenga la misma forma que array1\n",
    "\n",
    "# Sumar un vector columna por cada columna del array\n",
    "vector_columna = np.array([[100], [200]])\n",
    "resultado = array1 + vector_columna\n",
    "# El vector_columna se expande automáticamente para que tenga la misma forma que array1\n",
    "\n",
    "# Broadcasting con arrays de diferentes formas\n",
    "array2 = np.array([1, 2])\n",
    "resultado = array1 + array2\n",
    "# operands could not be broadcast together with shapes (2,3) (2,) \n",
    "\n",
    "# Broadcasting con arrays de diferentes formas - Caso no compatible\n",
    "array3 = np.array([[1], [2], [3]])\n",
    "# array1 + array3 generará un error ya que las formas no son compatibles"
   ]
  },
  {
   "cell_type": "markdown",
   "metadata": {},
   "source": [
    "## Indexado y slicing avanzado"
   ]
  },
  {
   "cell_type": "markdown",
   "metadata": {},
   "source": [
    "### Indexado con arrays booleanos"
   ]
  },
  {
   "cell_type": "code",
   "execution_count": null,
   "metadata": {},
   "outputs": [],
   "source": [
    "# Crear un array de ejemplo\n",
    "array_ejemplo = np.array([[1, 2, 3],\n",
    "                          [4, 5, 6],\n",
    "                          [7, 8, 9]])\n",
    "\n",
    "# Crear una máscara booleana basada en una condición\n",
    "condicion = array_ejemplo > 5\n",
    "# La condición devuelve un array booleano con True en las posiciones donde la condición se cumple\n",
    "\n",
    "# Usar la máscara booleana para seleccionar elementos del array original\n",
    "elementos_seleccionados = array_ejemplo[condicion]\n",
    "# Selecciona los elementos de array_ejemplo donde la condición es True\n",
    "\n",
    "# También puedes realizar la operación en una sola línea\n",
    "elementos_seleccionados = array_ejemplo[array_ejemplo > 5]\n",
    "\n",
    "# Modificar los valores seleccionados\n",
    "array_ejemplo[array_ejemplo > 5] = 0\n",
    "# Asigna 0 a los elementos de array_ejemplo donde la condición es True\n",
    "\n",
    "# Otra forma de usar masking con múltiples condiciones\n",
    "condicion_multiple = (array_ejemplo > 2) & (array_ejemplo < 7)\n",
    "elementos_seleccionados = array_ejemplo[condicion_multiple]"
   ]
  },
  {
   "cell_type": "markdown",
   "metadata": {},
   "source": [
    "### Indexado con condiciones lógicas"
   ]
  },
  {
   "cell_type": "code",
   "execution_count": 27,
   "metadata": {},
   "outputs": [],
   "source": [
    "\n",
    "# Crear un array de ejemplo\n",
    "array_ejemplo = np.array([[1, 2, 3],\n",
    "                          [4, 5, 6],\n",
    "                          [7, 8, 9]])\n",
    "\n",
    "# Seleccionar elementos mayores que un valor específico\n",
    "mayor_que_cinco = array_ejemplo[array_ejemplo > 5]\n",
    "\n",
    "# Seleccionar elementos que cumplen múltiples condiciones\n",
    "cumple_condiciones = array_ejemplo[(array_ejemplo > 2) & (array_ejemplo < 7)]\n",
    "\n",
    "# Seleccionar elementos que cumplen al menos una condición\n",
    "al_menos_una_condicion = array_ejemplo[(array_ejemplo == 2) | (array_ejemplo == 6)]\n",
    "\n",
    "# Seleccionar elementos que no cumplen una condición\n",
    "no_cumple_condicion = array_ejemplo[~(array_ejemplo > 5)]\n",
    "\n",
    "# También podemos usar funciones NumPy para crear condiciones\n",
    "condicion_negativa = array_ejemplo[np.logical_not(array_ejemplo > 5)]\n",
    "\n",
    "# Podemos combinar condiciones lógicas y matemáticas\n",
    "resultado = array_ejemplo[(array_ejemplo + 2) > 5]\n",
    "\n",
    "# También podemos usar condiciones lógicas con arrays multidimensionales\n",
    "array_3d = np.random.randint(0, 10, size=(3, 3, 3))\n",
    "resultado_3d = array_3d[array_3d[:, :, 0] > 5]"
   ]
  },
  {
   "cell_type": "markdown",
   "metadata": {},
   "source": [
    "## Manipulación de arrays"
   ]
  },
  {
   "cell_type": "markdown",
   "metadata": {},
   "source": [
    "### Concatenación de arrays"
   ]
  },
  {
   "cell_type": "code",
   "execution_count": null,
   "metadata": {},
   "outputs": [],
   "source": [
    "# Concatenación de arrays 1D\n",
    "array1 = np.array([1, 2, 3])\n",
    "array2 = np.array([4, 5, 6])\n",
    "\n",
    "# Concatenar a lo largo del eje 0 (por defecto para arrays 1D)\n",
    "concatenacion_1d = np.concatenate((array1, array2))\n",
    "\n",
    "# Concatenación de arrays 2D\n",
    "matriz1 = np.array([[1, 2, 3],\n",
    "                    [4, 5, 6]])\n",
    "matriz2 = np.array([[7, 8, 9],\n",
    "                    [10, 11, 12]])\n",
    "\n",
    "# Concatenar a lo largo del eje 0 (filas)\n",
    "concatenacion_filas = np.concatenate((matriz1, matriz2), axis=0)\n",
    "\n",
    "# Concatenar a lo largo del eje 1 (columnas)\n",
    "concatenacion_columnas = np.concatenate((matriz1, matriz2), axis=1)\n",
    "\n",
    "# También podemos usar vstack y hstack para concatenar específicamente a lo largo de un eje\n",
    "concatenacion_vertical = np.vstack((matriz1, matriz2))  # Equivalente a axis=0\n",
    "concatenacion_horizontal = np.hstack((matriz1, matriz2))  # Equivalente a axis=1\n",
    "\n",
    "# Concatenación de arrays 3D\n",
    "array3d_1 = np.random.randint(0, 10, size=(2, 2, 2))\n",
    "array3d_2 = np.random.randint(0, 10, size=(2, 2, 2))\n",
    "\n",
    "# Concatenar a lo largo del eje 0 (profundidad)\n",
    "concatenacion_3d = np.concatenate((array3d_1, array3d_2), axis=0)"
   ]
  },
  {
   "cell_type": "markdown",
   "metadata": {},
   "source": [
    "### División de arrays"
   ]
  },
  {
   "cell_type": "code",
   "execution_count": null,
   "metadata": {},
   "outputs": [],
   "source": [
    "# Crear un array de ejemplo\n",
    "array_ejemplo = np.arange(1, 13).reshape(3, 4)\n",
    "\"\"\"\n",
    "array([[ 1,  2,  3,  4],\n",
    "       [ 5,  6,  7,  8],\n",
    "       [ 9, 10, 11, 12]])\n",
    "\"\"\"\n",
    "\n",
    "# Dividir el array en partes a lo largo del eje horizontal (eje 1)\n",
    "partes_horizontal = np.split(array_ejemplo, 2, axis=1)\n",
    "\"\"\"\n",
    "[array([[ 1,  2],\n",
    "        [ 5,  6],\n",
    "        [ 9, 10]]),\n",
    " array([[ 3,  4],\n",
    "        [ 7,  8],\n",
    "        [11, 12]])]\n",
    "\"\"\"\n",
    "\n",
    "# Dividir el array en partes a lo largo del eje vertical (eje 0)\n",
    "partes_vertical = np.split(array_ejemplo, 3, axis=0)\n",
    "\"\"\"\n",
    "[array([[1, 2, 3, 4]]),\n",
    " array([[5, 6, 7, 8]]),\n",
    " array([[ 9, 10, 11, 12]])]\n",
    "\"\"\"\n",
    "\n",
    "# Dividir el array en partes desiguales\n",
    "partes_desiguales = np.array_split(array_ejemplo, [2, 3], axis=1)\n",
    "\"\"\"\n",
    "[array([[1, 2],\n",
    "        [5, 6],\n",
    "        [9, 10]]),\n",
    " array([[ 3],\n",
    "        [ 7],\n",
    "        [11]]),\n",
    " array([[ 4],\n",
    "        [ 8],\n",
    "        [12]])]\n",
    "\"\"\"\n",
    "\n",
    "# Dividir el array verticalmente en la segunda columna\n",
    "split_vertical = np.hsplit(array_ejemplo, [2])\n",
    "\"\"\"\n",
    "[array([[ 1,  2],\n",
    "        [ 5,  6],\n",
    "        [ 9, 10]]),\n",
    " array([[ 3,  4],\n",
    "        [ 7,  8],\n",
    "        [11, 12]])]\n",
    "\"\"\"\n",
    "\n",
    "# Dividir el array horizontalmente en la segunda fila\n",
    "split_horizontal = np.vsplit(array_ejemplo, [1])\n",
    "\"\"\"\n",
    "[array([[1, 2, 3, 4]]),\n",
    " array([[ 5,  6,  7,  8],\n",
    "        [ 9, 10, 11, 12]])]\n",
    "\"\"\""
   ]
  },
  {
   "cell_type": "markdown",
   "metadata": {},
   "source": [
    "### Transposición de arrays"
   ]
  },
  {
   "cell_type": "code",
   "execution_count": null,
   "metadata": {},
   "outputs": [],
   "source": [
    "\n",
    "# Crear un array de ejemplo\n",
    "array_ejemplo = np.array([[1, 2, 3],\n",
    "                          [4, 5, 6]])\n",
    "\n",
    "# Transposición utilizando np.transpose()\n",
    "transpuesto_np = np.transpose(array_ejemplo)\n",
    "# También se puede usar array_ejemplo.T para transponer\n",
    "transpuesto_attr = array_ejemplo.T"
   ]
  },
  {
   "cell_type": "markdown",
   "metadata": {},
   "source": [
    "### Cambio de forma"
   ]
  },
  {
   "cell_type": "code",
   "execution_count": null,
   "metadata": {},
   "outputs": [],
   "source": [
    "# Crear un array de ejemplo\n",
    "array_ejemplo = np.array([[1, 2, 3],\n",
    "                          [4, 5, 6]])\n",
    "\n",
    "# Cambiar la forma del array a un vector fila (1D)\n",
    "vector_fila = array_ejemplo.reshape(1, -1)\n",
    "# El argumento -1 le dice a NumPy que determine automáticamente el tamaño de la segunda dimensión\n",
    "\n",
    "# Cambiar la forma del array a un vector columna (1D)\n",
    "vector_columna = array_ejemplo.reshape(-1, 1)\n",
    "\n",
    "# Cambiar la forma del array a una matriz de 1 fila y 6 columnas\n",
    "matriz_1x6 = np.reshape(array_ejemplo, (1, 6))\n",
    "\n",
    "# Cambiar la forma del array a una matriz de 3 filas y 2 columnas\n",
    "matriz_3x2 = np.reshape(array_ejemplo, (3, 2))"
   ]
  },
  {
   "cell_type": "markdown",
   "metadata": {},
   "source": [
    "### Aplanamiento de arrays"
   ]
  },
  {
   "cell_type": "code",
   "execution_count": null,
   "metadata": {},
   "outputs": [],
   "source": [
    "# Crear un array de ejemplo\n",
    "array_ejemplo = np.array([[1, 2, 3],\n",
    "                          [4, 5, 6]])\n",
    "\n",
    "# Aplanar el array utilizando el método flatten()\n",
    "array_aplanado_metodo = array_ejemplo.flatten()\n",
    "\n",
    "# Aplanar el array utilizando la función np.flatten()\n",
    "array_aplanado_funcion = np.flatten(array_ejemplo)"
   ]
  },
  {
   "cell_type": "markdown",
   "metadata": {},
   "source": [
    "## Funciones matemáticas y estadísticas"
   ]
  },
  {
   "cell_type": "markdown",
   "metadata": {},
   "source": [
    "### Funciones matemáticas básicas"
   ]
  },
  {
   "cell_type": "code",
   "execution_count": null,
   "metadata": {},
   "outputs": [],
   "source": [
    "# Crear un array de ejemplo\n",
    "array_ejemplo = np.array([[1, 2, 3],\n",
    "                          [4, 5, 6]])\n",
    "\n",
    "# Suma de todos los elementos del array\n",
    "suma_total = np.sum(array_ejemplo)\n",
    "\n",
    "# Suma a lo largo de un eje específico (eje 0: columnas, eje 1: filas)\n",
    "suma_columnas = np.sum(array_ejemplo, axis=0)\n",
    "suma_filas = np.sum(array_ejemplo, axis=1)\n",
    "\n",
    "# Producto de todos los elementos del array\n",
    "producto_total = np.prod(array_ejemplo)\n",
    "\n",
    "# Producto a lo largo de un eje específico\n",
    "producto_columnas = np.prod(array_ejemplo, axis=0)\n",
    "producto_filas = np.prod(array_ejemplo, axis=1)\n",
    "\n",
    "# Media de todos los elementos del array\n",
    "media = np.mean(array_ejemplo)\n",
    "\n",
    "# Mínimo y máximo\n",
    "minimo = np.min(array_ejemplo)\n",
    "maximo = np.max(array_ejemplo)\n",
    "\n",
    "# Raíz cuadrada de cada elemento del array\n",
    "raiz_cuadrada = np.sqrt(array_ejemplo)\n",
    "\n",
    "# Exponencial de cada elemento del array\n",
    "exponencial = np.exp(array_ejemplo)\n",
    "\n",
    "# Logaritmo natural de cada elemento del array\n",
    "logaritmo = np.log(array_ejemplo)\n",
    "\n",
    "# Seno de cada elemento del array (en radianes)\n",
    "seno = np.sin(array_ejemplo)\n",
    "\n",
    "# Coseno de cada elemento del array (en radianes)\n",
    "coseno = np.cos(array_ejemplo)\n",
    "\n",
    "# Tangente de cada elemento del array (en radianes)\n",
    "tangente = np.tan(array_ejemplo)"
   ]
  },
  {
   "cell_type": "markdown",
   "metadata": {},
   "source": [
    "### Funciones estadísticas básicas"
   ]
  },
  {
   "cell_type": "code",
   "execution_count": null,
   "metadata": {},
   "outputs": [],
   "source": [
    "# Crear un array de ejemplo\n",
    "array_ejemplo = np.array([[1, 2, 3],\n",
    "                          [4, 5, 6]])\n",
    "\n",
    "# Suma de todos los elementos del array\n",
    "suma_total = np.sum(array_ejemplo)\n",
    "\n",
    "# Media de todos los elementos del array\n",
    "media = np.mean(array_ejemplo)\n",
    "\n",
    "# Mediana de todos los elementos del array\n",
    "mediana = np.median(array_ejemplo)\n",
    "\n",
    "# Desviación estándar de todos los elementos del array\n",
    "desviacion_estandar = np.std(array_ejemplo)\n",
    "\n",
    "# Varianza de todos los elementos del array\n",
    "varianza = np.var(array_ejemplo)\n",
    "\n",
    "# Mínimo y máximo\n",
    "minimo = np.min(array_ejemplo)\n",
    "maximo = np.max(array_ejemplo)\n",
    "\n",
    "# Percentiles\n",
    "percentil_25 = np.percentile(array_ejemplo, 25)\n",
    "percentil_75 = np.percentile(array_ejemplo, 75)\n",
    "\n",
    "# Correlación\n",
    "correlacion = np.corrcoef(array_ejemplo)\n",
    "\n",
    "# Covarianza\n",
    "covarianza = np.cov(array_ejemplo)\n",
    "\n",
    "# Conteo de elementos no cero\n",
    "elementos_no_cero = np.count_nonzero(array_ejemplo)\n",
    "\n",
    "# Conteo de elementos únicos y sus ocurrencias\n",
    "elementos_unicos, ocurrencias = np.unique(array_ejemplo, return_counts=True)"
   ]
  },
  {
   "cell_type": "markdown",
   "metadata": {},
   "source": [
    "### Álgebra lineal con NumPy"
   ]
  },
  {
   "cell_type": "code",
   "execution_count": null,
   "metadata": {},
   "outputs": [],
   "source": [
    "\n",
    "# Crear matrices de ejemplo\n",
    "A = np.array([[1, 2], [3, 4]])\n",
    "B = np.array([[5, 6], [7, 8]])\n",
    "\n",
    "# Multiplicación de matrices\n",
    "producto_matricial = np.dot(A, B)\n",
    "# También puedes usar el operador @ para multiplicación de matrices\n",
    "producto_matricial_alt = A @ B\n",
    "\n",
    "# Transpuesta de una matriz\n",
    "transpuesta = np.transpose(A)\n",
    "# Otra forma de transponer es usar el atributo T\n",
    "transpuesta_alt = A.T\n",
    "\n",
    "# Inversa de una matriz\n",
    "inversa = np.linalg.inv(A)\n",
    "\n",
    "# Determinante de una matriz\n",
    "determinante = np.linalg.det(A)\n",
    "\n",
    "# Valores propios y vectores propios de una matriz\n",
    "valores_propios, vectores_propios = np.linalg.eig(A)\n",
    "\n",
    "# Resolver un sistema de ecuaciones lineales Ax = b\n",
    "b = np.array([1, 2])\n",
    "x = np.linalg.solve(A, b)\n",
    "\n",
    "# Descomposición en valores singulares (SVD)\n",
    "U, S, V = np.linalg.svd(A)"
   ]
  },
  {
   "cell_type": "markdown",
   "metadata": {},
   "source": [
    "## Generación de números aleatorios"
   ]
  },
  {
   "cell_type": "markdown",
   "metadata": {},
   "source": [
    "### Generación de números aleatorios simples"
   ]
  },
  {
   "cell_type": "code",
   "execution_count": null,
   "metadata": {},
   "outputs": [],
   "source": [
    "\n",
    "# Generar un número aleatorio entre 0 y 1\n",
    "numero_aleatorio = np.random.random()\n",
    "\n",
    "# Generar un array de números aleatorios entre 0 y 1 de una dimensión\n",
    "array_aleatorio = np.random.rand(5)\n",
    "\n",
    "# Generar un array de números aleatorios de una dimensión dentro de un rango específico\n",
    "array_aleatorio_rango = np.random.randint(1, 10, size=5)\n",
    "\n",
    "# Generar un array de números aleatorios de múltiples dimensiones\n",
    "array_aleatorio_multi = np.random.randn(2, 3)  # Distribución normal estándar\n",
    "\n",
    "# Mezclar un array\n",
    "array_original = np.array([1, 2, 3, 4, 5])\n",
    "np.random.shuffle(array_original)\n",
    "\n",
    "# Elegir elementos aleatorios de un array\n",
    "array_ejemplo = np.array(['a', 'b', 'c', 'd', 'e'])\n",
    "elementos_elegidos = np.random.choice(array_ejemplo, size=3, replace=False)"
   ]
  },
  {
   "cell_type": "markdown",
   "metadata": {},
   "source": [
    "### Distribuciones de probabilidad"
   ]
  },
  {
   "cell_type": "code",
   "execution_count": null,
   "metadata": {},
   "outputs": [],
   "source": [
    "# Distribución uniforme\n",
    "uniforme = np.random.uniform(low=0.0, high=1.0, size=10)\n",
    "\n",
    "# Distribución normal (Gaussiana)\n",
    "normal = np.random.normal(loc=0.0, scale=1.0, size=10)\n",
    "\n",
    "# Distribución binomial\n",
    "binomial = np.random.binomial(n=10, p=0.5, size=10)\n",
    "\n",
    "# Distribución de Poisson\n",
    "poisson = np.random.poisson(lam=3.0, size=10)"
   ]
  },
  {
   "cell_type": "markdown",
   "metadata": {},
   "source": [
    "## Guardado y carga de datos"
   ]
  },
  {
   "cell_type": "markdown",
   "metadata": {},
   "source": [
    "### Guardado de arrays en archivos"
   ]
  },
  {
   "cell_type": "markdown",
   "metadata": {},
   "source": [
    "### Carga de arrays desde archivos"
   ]
  },
  {
   "cell_type": "markdown",
   "metadata": {},
   "source": [
    "## NumPy y la visualización de datos"
   ]
  },
  {
   "cell_type": "markdown",
   "metadata": {},
   "source": [
    "### Integración con Matplotlib"
   ]
  },
  {
   "cell_type": "markdown",
   "metadata": {},
   "source": [
    "### Representación de arrays NumPy"
   ]
  },
  {
   "cell_type": "markdown",
   "metadata": {},
   "source": [
    "## Optimización de código con NumPy"
   ]
  },
  {
   "cell_type": "markdown",
   "metadata": {},
   "source": [
    "### Vectorización de operaciones"
   ]
  },
  {
   "cell_type": "markdown",
   "metadata": {},
   "source": [
    "### Comparación de rendimiento con listas estándar de Python"
   ]
  },
  {
   "cell_type": "markdown",
   "metadata": {},
   "source": [
    "## Casos de uso y ejemplos prácticos"
   ]
  },
  {
   "cell_type": "markdown",
   "metadata": {},
   "source": [
    "### Procesamiento de imágenes"
   ]
  },
  {
   "cell_type": "markdown",
   "metadata": {},
   "source": [
    "### Cálculos científicos y de ingeniería"
   ]
  },
  {
   "cell_type": "markdown",
   "metadata": {},
   "source": [
    "### Cálculos científicos y de ingeniería"
   ]
  }
 ],
 "metadata": {
  "kernelspec": {
   "display_name": "Python 3",
   "language": "python",
   "name": "python3"
  },
  "language_info": {
   "codemirror_mode": {
    "name": "ipython",
    "version": 3
   },
   "file_extension": ".py",
   "mimetype": "text/x-python",
   "name": "python",
   "nbconvert_exporter": "python",
   "pygments_lexer": "ipython3",
   "version": "3.12.0"
  }
 },
 "nbformat": 4,
 "nbformat_minor": 2
}
