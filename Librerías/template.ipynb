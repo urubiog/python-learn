{
 "cells": [
  {
   "cell_type": "markdown",
   "id": "06524b89",
   "metadata": {},
   "source": [
    "<img src=\"https://upload.wikimedia.org/wikipedia/commons/thumb/c/c3/Python-logo-notext.svg/701px-Python-logo-notext.svg.png\" alt=\"\" width=\"100\" style=\"float: left;\">"
   ]
  },
  {
   "cell_type": "markdown",
   "id": "def497eb",
   "metadata": {},
   "source": [
    "# Template"
   ]
  },
  {
   "cell_type": "markdown",
   "id": "13255dc3",
   "metadata": {},
   "source": [
    "[Go to repo](https://github.com/urubiog/python-learn) | [Bug report](https://github.com/urubiog/python-learn/issues)\n",
    "\n",
    "**Author**: [Uriel Rubio](https://www.github.com/urubiog)\n",
    "\n",
    "**Tags**: #python\n",
    "\n",
    "**Last update**: 11/17/2024"
   ]
  },
  {
   "cell_type": "markdown",
   "id": "971cbc18",
   "metadata": {},
   "source": [
    "[Description]"
   ]
  },
  {
   "cell_type": "markdown",
   "id": "5f35c692",
   "metadata": {},
   "source": [
    "--- "
   ]
  },
  {
   "cell_type": "markdown",
   "id": "f59e424e",
   "metadata": {},
   "source": [
    "## Índice\n",
    "\n",
    "1. [Introducción](#introducción)\n",
    "2. [Instalación](#instalación)\n",
    "3. [Variables y Constantes](#variablesy-constantes)\n",
    "4. [Funciones](#funciones)\n",
    "5. [Clases](#clases)"
   ]
  },
  {
   "cell_type": "markdown",
   "id": "a57ef9ef",
   "metadata": {},
   "source": [
    "---"
   ]
  },
  {
   "cell_type": "markdown",
   "id": "652442e3",
   "metadata": {},
   "source": [
    "## Introducción"
   ]
  },
  {
   "cell_type": "markdown",
   "id": "e3108d36",
   "metadata": {},
   "source": [
    "[Nombre de tu librería] es una librería Python que permite [explicar brevemente lo que hace tu librería]. "
   ]
  },
  {
   "cell_type": "markdown",
   "id": "4d7813b2",
   "metadata": {},
   "source": [
    "### Usos"
   ]
  },
  {
   "cell_type": "markdown",
   "id": "6731c00f",
   "metadata": {},
   "source": [
    "1. ...\n",
    "2. ..."
   ]
  },
  {
   "cell_type": "markdown",
   "id": "4064938d",
   "metadata": {},
   "source": [
    "---"
   ]
  },
  {
   "cell_type": "markdown",
   "id": "845a02e9",
   "metadata": {},
   "source": [
    "## Instalación"
   ]
  },
  {
   "cell_type": "markdown",
   "id": "75498ec5",
   "metadata": {},
   "source": [
    "Para instalar [Nombre de tu librería], puedes usar `pip`:\n"
   ]
  },
  {
   "cell_type": "code",
   "execution_count": 14,
   "id": "279aed98",
   "metadata": {},
   "outputs": [
    {
     "name": "stdout",
     "output_type": "stream",
     "text": [
      "\u001b[31mERROR: Invalid requirement: '...'\u001b[0m\u001b[31m\r\n",
      "\u001b[0m"
     ]
    }
   ],
   "source": [
    "!pip install ..."
   ]
  },
  {
   "cell_type": "markdown",
   "id": "90408ce9",
   "metadata": {},
   "source": [
    "---"
   ]
  },
  {
   "cell_type": "markdown",
   "id": "66d125e5",
   "metadata": {},
   "source": [
    "## Variables y Constantes"
   ]
  },
  {
   "cell_type": "markdown",
   "id": "55287444",
   "metadata": {},
   "source": [
    "..."
   ]
  },
  {
   "cell_type": "markdown",
   "id": "efaf150a",
   "metadata": {},
   "source": [
    "---"
   ]
  },
  {
   "cell_type": "markdown",
   "id": "b6e2327b",
   "metadata": {},
   "source": [
    "## Funciones"
   ]
  },
  {
   "cell_type": "markdown",
   "id": "2fe26ee9",
   "metadata": {},
   "source": [
    "..."
   ]
  },
  {
   "cell_type": "markdown",
   "id": "3350b1d3",
   "metadata": {},
   "source": [
    "---"
   ]
  },
  {
   "cell_type": "markdown",
   "id": "e8f34702",
   "metadata": {},
   "source": [
    "## Clases"
   ]
  },
  {
   "cell_type": "markdown",
   "id": "0e888ee4",
   "metadata": {},
   "source": [
    "..."
   ]
  },
  {
   "cell_type": "markdown",
   "id": "2c063214",
   "metadata": {},
   "source": [
    "---"
   ]
  }
 ],
 "metadata": {
  "kernelspec": {
   "display_name": "Python 3 (ipykernel)",
   "language": "python",
   "name": "python3"
  },
  "language_info": {
   "codemirror_mode": {
    "name": "ipython",
    "version": 3
   },
   "file_extension": ".py",
   "mimetype": "text/x-python",
   "name": "python",
   "nbconvert_exporter": "python",
   "pygments_lexer": "ipython3",
   "version": "3.11.2"
  }
 },
 "nbformat": 4,
 "nbformat_minor": 5
}
